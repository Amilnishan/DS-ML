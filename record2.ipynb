{
 "cells": [
  {
   "cell_type": "markdown",
   "id": "630c03a5",
   "metadata": {},
   "source": [
    "**program 1**"
   ]
  },
  {
   "cell_type": "code",
   "execution_count": 2,
   "id": "8028a262",
   "metadata": {},
   "outputs": [
    {
     "name": "stdout",
     "output_type": "stream",
     "text": [
      "Matrix A:\n",
      " [[1 2]\n",
      " [3 4]]\n",
      "Matrix B:\n",
      " [[5 6]\n",
      " [7 8]]\n",
      "Addition of A and B:\n",
      " [[ 6  8]\n",
      " [10 12]]\n",
      "Subtraction of A and B:\n",
      " [[-4 -4]\n",
      " [-4 -4]]\n",
      "Element-wise multiplication of A and B:\n",
      " [[ 5 12]\n",
      " [21 32]]\n",
      "Matrix multiplication of A and B:\n",
      " [[19 22]\n",
      " [43 50]]\n",
      "Transpose of A:\n",
      " [[1 3]\n",
      " [2 4]]\n"
     ]
    }
   ],
   "source": [
    "import numpy as np\n",
    "\n",
    "A=np.array([[1,2],[3,4]])\n",
    "B=np.array([[5,6],[7,8]])\n",
    "\n",
    "print(\"Matrix A:\\n\",A)\n",
    "print(\"Matrix B:\\n\",B)\n",
    "\n",
    "#Addition\n",
    "C=A+B\n",
    "print(\"Addition of A and B:\\n\",C)\n",
    "\n",
    "#Subtraction\n",
    "D=A-B\n",
    "print(\"Subtraction of A and B:\\n\",D)\n",
    "\n",
    "#Multiplication\n",
    "E=A*B\n",
    "print(\"Element-wise multiplication of A and B:\\n\",E)\n",
    "\n",
    "#Matrix multiplication\n",
    "F=np.dot(A,B)\n",
    "print(\"Matrix multiplication of A and B:\\n\",F)\n",
    "\n",
    "#Transpose\n",
    "G=A.T\n",
    "print(\"Transpose of A:\\n\",G)\n",
    "\n",
    "\n",
    "\n",
    "\n"
   ]
  }
 ],
 "metadata": {
  "kernelspec": {
   "display_name": "base",
   "language": "python",
   "name": "python3"
  },
  "language_info": {
   "codemirror_mode": {
    "name": "ipython",
    "version": 3
   },
   "file_extension": ".py",
   "mimetype": "text/x-python",
   "name": "python",
   "nbconvert_exporter": "python",
   "pygments_lexer": "ipython3",
   "version": "3.9.7"
  }
 },
 "nbformat": 4,
 "nbformat_minor": 5
}
